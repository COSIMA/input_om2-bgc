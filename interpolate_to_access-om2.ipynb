{
 "cells": [
  {
   "cell_type": "markdown",
   "metadata": {},
   "source": [
    "# Create initial and boundary conditions for BGC of ACCESS-OM2*"
   ]
  },
  {
   "cell_type": "markdown",
   "metadata": {},
   "source": [
    "### A few notes:\n",
    "\n",
    "0. Directory structure\n",
    "    - `input` contains input data.\n",
    "    - `tmp` is where the regridded data will be stored initially (to be deleted manually after regridding is finished).\n",
    "    - `1deg, 025deg, 01deg` are where the regridded data used for model simulations will be stored (permanent locations).\n",
    "0. To run ACCESS-OM2* with BGC, the following files are required:\n",
    "    - bgc_param.nc (parameters)\n",
    "    - co2_iaf.nc or co2_ryf.nc (atmospheric co2 concentrations)\n",
    "    - csiro_bgc.res.nc (initial conditions)\n",
    "    - csiro_bgc_sediment.res.nc (initial sediment conditions)\n",
    "    - dust.nc (dust deposition for iron)\n",
    "\n",
    "0. In addition, the following files need to be updated by adding extra coupling tracers for ice BGC:\n",
    "    - i2o.nc\n",
    "    - o2i.nc\n",
    "\n",
    "0. There are a few options for BGC initial conditions. The current version of this script supports generation of initial conditions either from:\n",
    "    - access-om2-1deg_omip2_cycle5 (adic,dic,alk)\n",
    "    - WOA13v2 (no3,o2; OMIP protocol)\n",
    "    - GLODAPv2 2016b (no3,o2,adic,dic,alk)\n",
    "    - FeMIP median (fe; mol L-1)\n",
    "    - 0.01 mmol m-3 is given to phy,zoo,det,caco3.\n",
    "\n",
    "0. Before regridding, input data are extrapolated over land to avoid missing values over the regridded ocean in case slight changes in the model bathymetry occurs in the future. This is done using `cdo fillmiss`.\n",
    "\n",
    "0. WOMBAT wants these fields in the units of mmol m-3 for all tracers except for iron (umol m-3). Therefore, appropriate unit conversion is needed if the input data are provided in different units. \n",
    "\n",
    "0. This script should be run using `gadi_jupyter` by requesting the maximum memory for a whole node i.e., `192 GB`."
   ]
  },
  {
   "cell_type": "markdown",
   "metadata": {
    "tags": []
   },
   "source": [
    "# Load relevant modules"
   ]
  },
  {
   "cell_type": "code",
   "execution_count": 1,
   "metadata": {},
   "outputs": [],
   "source": [
    "%matplotlib inline\n",
    "from scipy.interpolate import griddata,interpn\n",
    "import numpy as np\n",
    "import xarray as xr\n",
    "import xesmf as xe\n",
    "#from dask.distributed import Client,LocalCluster\n",
    "#client = Client()\n",
    "#client"
   ]
  },
  {
   "cell_type": "markdown",
   "metadata": {
    "tags": []
   },
   "source": [
    "# Create `csiro_bgc.res.nc`.\n",
    "\n",
    "- The input options `input_list` are:\n",
    "    - IRON = FEMIP median iron\n",
    "    - TAlk,TCO2,PI_TCO2,NO3,oxygen = GLODAPv2 2016b\n",
    "    - no3,o2 = WOA2013v2\n",
    "    - dic,adic,alk = 1deg_jra55_iaf_omip2_cycle5_restart304\n",
    "- `wombat_list` contains the names of variables that WOMBAT wants. The choices are `fe,dic,adic,alk,no3,o2`.\n",
    "\n",
    "- `wombat_list` must match the order of `input_list`. For example, if `input_list = ['NO3','oxygen']`, then `wombat_list = ['no3','o2']`\n",
    "\n",
    "- `res_list` is the output resolution you want to regrid to.\n",
    "\n",
    "- mean/min/max of both input and output data are printed to make sure that regridded values are reasonable and contains no NaNs."
   ]
  },
  {
   "cell_type": "code",
   "execution_count": 2,
   "metadata": {
    "scrolled": true
   },
   "outputs": [
    {
     "name": "stderr",
     "output_type": "stream",
     "text": [
      "/g/data/hh5/public/apps/miniconda3/envs/analysis3-21.07/lib/python3.9/site-packages/xarray/coding/times.py:527: SerializationWarning: Unable to decode time axis into full numpy.datetime64 objects, continuing using cftime.datetime objects instead, reason: dates out of range\n",
      "  dtype = _decode_cf_datetime_dtype(data, units, calendar, self.use_cftime)\n",
      "/g/data/hh5/public/apps/miniconda3/envs/analysis3-21.07/lib/python3.9/site-packages/xesmf/frontend.py:522: FutureWarning: ``output_sizes`` should be given in the ``dask_gufunc_kwargs`` parameter. It will be removed as direct parameter in a future version.\n",
      "  dr_out = xr.apply_ufunc(\n"
     ]
    },
    {
     "name": "stdout",
     "output_type": "stream",
     "text": [
      "['input: ', <xarray.DataArray 'dic' ()>\n",
      "array(2156.25, dtype=float32), <xarray.DataArray 'dic' ()>\n",
      "array(147.80667114), <xarray.DataArray 'dic' ()>\n",
      "array(2478.56494141)]\n",
      "['output: ', <xarray.DataArray 'dic' ()>\n",
      "array(2144.346, dtype=float32), <xarray.DataArray 'dic' ()>\n",
      "array(170.94919, dtype=float32), <xarray.DataArray 'dic' ()>\n",
      "array(2574.3003, dtype=float32)]\n",
      "01 dic done\n"
     ]
    }
   ],
   "source": [
    "res_list = ['1','025','01']\n",
    "input_list = ['NO3','oxygen','PI_TCO2','TAlk','TCO2','IRON']#,'no3','o2','dic','adic','alk']\n",
    "wombat_list = ['no3','o2','dic'  ,'alk' ,'adic',    'fe']# ,'no3','o2','dic','adic','alk']\n",
    "\n",
    "for ir in range(np.size(res_list)):\n",
    "    \n",
    "    for it in range(np.size(wombat_list)):\n",
    "\n",
    "        if input_list[it] == 'IRON':\n",
    "            ds_in = xr.open_dataset('/g/data/v45/hh0162/projects/icebgc/prep_omip2/input_om2-bgc/input/FEMIP_model_median_iron_2016_fillmiss.nc')\n",
    "            #rename the coordinates to the MOM coordinate names to enable interpolation.\n",
    "            ds_in = ds_in.rename(({'LON':'xt_ocean', 'LAT':'yt_ocean', 'DEPTH':'st_ocean'}))              \n",
    "        elif input_list[it] == 'no3':\n",
    "            ds_in = xr.open_dataset('/g/data/v45/hh0162/projects/icebgc/prep_omip2/input_om2-bgc/input/woa13_nitrate_OMIPinit_fillmiss.nc',decode_times=False)\n",
    "            ds_in = ds_in.rename(({'lon':'xt_ocean', 'lat':'yt_ocean', 'depth':'st_ocean'}))\n",
    "            ds_in = ds_in.isel(time=0,drop=True)\n",
    "        elif input_list[it] == 'o2':\n",
    "            ds_in = xr.open_dataset('/g/data/v45/hh0162/projects/icebgc/prep_omip2/input_om2-bgc/input/woa13_oxygen_OMIPinit_fillmiss.nc',decode_times=False)\n",
    "            ds_in = ds_in.rename(({'lon':'xt_ocean', 'lat':'yt_ocean', 'depth':'st_ocean'}))\n",
    "            ds_in = ds_in.isel(time=0,drop=True)\n",
    "        elif input_list[it] in ['alk','adic','dic']:\n",
    "            ds_in = xr.open_dataset('/g/data/v45/hh0162/projects/icebgc/prep_omip2/input_om2-bgc/input/1deg_jra55_iaf_omip2_cycle5_restart304_csiro_bgc.res_fillmiss.nc')\n",
    "            ds_in = ds_in.isel(time=0,drop=True)\n",
    "        elif input_list[it] in ['TAlk','TCO2','PI_TCO2','NO3','oxygen']:\n",
    "            ds_in = xr.open_dataset('/g/data/v45/hh0162/projects/icebgc/prep_omip2/input_om2-bgc/input/GLODAPv2.2016b.'+input_list[it]+'_fillmiss.nc')\n",
    "            ds_in = ds_in.rename(({'lon':'xt_ocean', 'lat':'yt_ocean', 'depth_surface':'st_ocean'}))\n",
    "            #the vertical coordinate (depth_surface) in GLODAPv2.2016b is wrong (it is index, not depth values).\n",
    "            #derive depth from FEMIP iron data (they are interpolated onto the same depths).\n",
    "            ds_tmp = xr.open_dataset('/g/data/v45/hh0162/projects/icebgc/prep_omip2/input_om2-bgc/input/FEMIP_model_median_iron_2016_fillmiss.nc')\n",
    "            ds_in['st_ocean'] = ds_tmp['DEPTH']    \n",
    "        ds_in = ds_in.rename({input_list[it]:wombat_list[it]})\n",
    "\n",
    "            \n",
    "        #first convert the lon coordiante system to the standard system (0-360) if not already in the standard system (e.g. -180 to 180)\n",
    "        #retain lon values less than 360, otherwiise subtract 360\n",
    "        ds_in['xt_ocean'] = ds_in['xt_ocean'].where(ds_in['xt_ocean']<360,ds_in['xt_ocean']-360)\n",
    "        #retain lon values greater than 0, otherwise add 360\n",
    "        ds_in['xt_ocean'] = ds_in['xt_ocean'].where(ds_in['xt_ocean']>0,ds_in['xt_ocean']+360)\n",
    "\n",
    "        #now convert to the MOM lon coordinate system, which spans from -280 to 80 (yes, a bit weird)\n",
    "        #retain lon values less than 80, otherwise subtract 360\n",
    "        ds_in['xt_ocean'] = ds_in['xt_ocean'].where(ds_in['xt_ocean']<80,ds_in['xt_ocean']-360)\n",
    "        #retain lon values greater than -280, otherwise add 360\n",
    "        ds_in['xt_ocean'] = ds_in['xt_ocean'].where(ds_in['xt_ocean']>-280,ds_in['xt_ocean']+360)\n",
    "\n",
    "        \n",
    "        #read target grid\n",
    "        if res_list[ir] == '1':\n",
    "            ds_tar = xr.open_dataset('/g/data/v45/hh0162/projects/icebgc/prep_omip2/input_om2-bgc/1deg/ocean_grid_xyz.nc')\n",
    "            ds_gri = xr.open_dataset('/g/data/ik11/grids/ocean_grid_10.nc')\n",
    "        elif res_list[ir] == '025':\n",
    "            ds_tar = xr.open_dataset('/g/data/v45/hh0162/projects/icebgc/prep_omip2/input_om2-bgc/025deg/ocean_grid_xyz.nc')\n",
    "            ds_gri = xr.open_dataset('/g/data/ik11/grids/ocean_grid_025.nc')        \n",
    "        elif res_list[ir] == '01':\n",
    "            ds_tar = xr.open_dataset('/g/data/v45/hh0162/projects/icebgc/prep_omip2/input_om2-bgc/01deg/ocean_grid_xyz.nc')\n",
    "            ds_gri = xr.open_dataset('/g/data/ik11/grids/ocean_grid_01.nc')        \n",
    "        #rename to lon and lat so that xesmf understands\n",
    "        ds_gri = ds_gri.rename({'geolon_t': 'lon', 'geolat_t': 'lat'})\n",
    "\n",
    "        #vertical 1-d interpolation first\n",
    "        ar_zz = np.zeros((np.size(ds_tar['st_ocean']),np.size(ds_in['yt_ocean']),np.size(ds_in['xt_ocean'])))\n",
    "        ar_in = ds_in[wombat_list[it]].values\n",
    "        for ix in range(np.size(ar_zz,2)):\n",
    "            for iy in range(np.size(ar_zz,1)):\n",
    "                #fill_value=None will extrapolate\n",
    "                ar_zz[:,iy,ix] = interpn((ds_in['st_ocean'].values,),ar_in[:,iy,ix],ds_tar['st_ocean'].values,\n",
    "                                        method=\"linear\",fill_value=None,bounds_error=False)         \n",
    "        ds_zz = ds_in.copy()\n",
    "        ds_zz = ds_zz.isel(st_ocean=0,drop=True)\n",
    "        ds_zz = ds_zz.assign_coords(st_ocean=ds_tar['st_ocean'])\n",
    "        if input_list[it] in ['adic','alk','dic']:\n",
    "            ds_gri_1deg = xr.open_dataset('/g/data/ik11/grids/ocean_grid_10.nc')\n",
    "            ds_zz['lon'] = (['yt_ocean','xt_ocean'],ds_gri_1deg['geolon_t'].values)\n",
    "            ds_zz['lat'] = (['yt_ocean','xt_ocean'],ds_gri_1deg['geolat_t'].values)\n",
    "        else:        \n",
    "            ds_zz = ds_zz.rename({'xt_ocean': 'lon', 'yt_ocean': 'lat'})\n",
    "        ds_zz[wombat_list[it]] = (['st_ocean','yt_ocean','xt_ocean'],ar_zz)           \n",
    "        #use bilinear. i compared with nearest_s2d but the differences are minimal.\n",
    "        regridder = xe.Regridder(ds_zz,ds_gri,method='bilinear',periodic=True)\n",
    "        regridder        \n",
    "        ds_tar = ds_tar.rename({'temp':wombat_list[it]})\n",
    "        for iz in range(np.size(ds_zz['st_ocean'])):\n",
    "            ds_tar[wombat_list[it]][:,iz,:,:] = regridder(ds_zz[wombat_list[it]].isel(st_ocean=iz))\n",
    "        #some interpolated values are NaNs, so interpolate_na with the following options to fill in NaNs.\n",
    "        #dim='st_ocean' is essential. 'xt_ocean' produces NaNs.\n",
    "        #method='nearest' is essential. 'linear' gives extreme values.\n",
    "        #fill_value='extrapolate' is essential. without it, still NaNs exist.\n",
    "        ds_tar[wombat_list[it]] = ds_tar[wombat_list[it]].interpolate_na(dim='st_ocean',method='nearest',fill_value=\"extrapolate\")\n",
    "        print(['input: ',ds_in[wombat_list[it]].mean(),ds_in[wombat_list[it]].min(),ds_in[wombat_list[it]].max()])\n",
    "        print(['output: ',ds_tar[wombat_list[it]].mean(skipna=False),ds_tar[wombat_list[it]].min(skipna=False),ds_tar[wombat_list[it]].max(skipna=False)])\n",
    "        #set negative values to zero (negative values exist in NO3 input) \n",
    "        ds_tar[wombat_list[it]] = ds_tar[wombat_list[it]].where(ds_tar[wombat_list[it]]>0,0)\n",
    "\n",
    "        #unit conversion relevant for fe and o2\n",
    "        if wombat_list[it] == 'fe':\n",
    "            #conversion from mol l-1 to umol m-3\n",
    "            ds_tar[wombat_list[it]] = ds_tar[wombat_list[it]]*1e9\n",
    "        elif wombat_list[it] == 'o2':\n",
    "            #conversion from ml l-1 to mmol m-3\n",
    "            ds_tar[wombat_list[it]] = ds_tar[wombat_list[it]]*44.661\n",
    "        elif input_list[it] in ['TAlk','TCO2','PI_TCO2','NO3','oxygen']:\n",
    "            #conversion from umol kg-1 to mmol m-3\n",
    "            ds_tar[wombat_list[it]] = ds_tar[wombat_list[it]]*1.025            \n",
    "        \n",
    "        #rename to what wombat wants.\n",
    "        ds_tar = ds_tar.rename(({'xt_ocean':'xaxis_1', 'yt_ocean':'yaxis_1', 'st_ocean':'zaxis_1', 'time':'Time'}))    \n",
    "        ds_tar.to_netcdf('/g/data/v45/hh0162/projects/icebgc/prep_omip2/input_om2-bgc/tmp/'+wombat_list[it]+'_init_'+res_list[ir]+'deg.nc',\n",
    "                         unlimited_dims='Time',\n",
    "                         encoding={wombat_list[it]:{'zlib': True,'complevel': 9}})\n",
    "        print(res_list[ir],input_list[it],'done')"
   ]
  },
  {
   "cell_type": "markdown",
   "metadata": {},
   "source": [
    "### Combine the regridded output for each tracer into a single `csiro_bgc.res.nc`. Also add tracers that are set to constant (0.01 mmol m-3; phy,zoo,det,caco3).\n",
    "- `dic_eq_adic = True` will set dic to be identical to adic (not using it for now)."
   ]
  },
  {
   "cell_type": "code",
   "execution_count": 3,
   "metadata": {},
   "outputs": [
    {
     "name": "stdout",
     "output_type": "stream",
     "text": [
      "01 done\n"
     ]
    }
   ],
   "source": [
    "res_list = ['01']#['1','025','01']\n",
    "wombat_list = ['fe','o2', 'alk', 'no3','adic','dic']\n",
    "dic_eq_adic = False\n",
    "\n",
    "for ir in range(np.size(res_list)):\n",
    "    \n",
    "    for it in range(np.size(wombat_list)):\n",
    "        ds_tar = xr.open_dataset('/g/data/v45/hh0162/projects/icebgc/prep_omip2/input_om2-bgc/tmp/'+wombat_list[it]+'_init_'+res_list[ir]+'deg.nc')\n",
    "        try:\n",
    "            ds_tar_all = ds_tar_all.assign(ds_tar)\n",
    "        except NameError:\n",
    "            ds_tar_all = ds_tar.copy()\n",
    "    ds_new = ds_tar[wombat_list[-1]].copy()\n",
    "    if dic_eq_adic:\n",
    "        ds_tar_all = ds_tar_all.assign(dic=ds_new)\n",
    "    ds_new[:,:,:,:] = 0.01\n",
    "    ds_tar_all = ds_tar_all.assign(phy=ds_new)\n",
    "    ds_tar_all = ds_tar_all.assign(zoo=ds_new)\n",
    "    ds_tar_all = ds_tar_all.assign(det=ds_new)\n",
    "    ds_tar_all = ds_tar_all.assign(caco3=ds_new)\n",
    "    ds_tar_all.to_netcdf('/g/data/v45/hh0162/projects/icebgc/prep_omip2/input_om2-bgc/tmp/csiro_bgc.res_'+res_list[ir]+'deg.nc')\n",
    "    del ds_tar_all\n",
    "    print(res_list[ir],'done')"
   ]
  },
  {
   "cell_type": "markdown",
   "metadata": {},
   "source": [
    "# Creation of `co2_iaf.nc` and `co2_ryf.nc`.\n",
    "\n",
    "1. Create atmospheric pCO2 (boundary conditions). one for IAF and one for RYF.\n",
    "1. prescribe annual mean (for saving storage) and global mean (for simplicity) data.\n",
    "1. follow omip2 protocol until 2014. from 2015-2020, use the global average data from https://gml.noaa.gov/webdata/ccgg/trends/co2/co2_annmean_gl.txt\n",
    "1. For RYF, apply the mean of pco2 between 1990-1991 to be consistent with the RYF forcing. "
   ]
  },
  {
   "cell_type": "code",
   "execution_count": 2,
   "metadata": {},
   "outputs": [],
   "source": [
    "from cftime import DatetimeNoLeap"
   ]
  },
  {
   "cell_type": "code",
   "execution_count": 3,
   "metadata": {},
   "outputs": [],
   "source": [
    "#combined atmospheric co2 data for input from 1850-2020.\n",
    "#OMIP2 protocol for 1850-2014.\n",
    "#NOAA GML DATA for 2015-2020.\n",
    "atmco2 = [284.32, 284.45, 284.60, 284.73, 284.85, 284.94, 285.05, 285.20, 285.37, 285.54, 285.74, 285.93, 286.10, 286.27, 286.44, 286.61, 286.78, 286.95, 287.10, 287.22, 287.35, 287.49, 287.66, 287.86, 288.06, 288.29, 288.52, 288.75, 288.99, 289.22, 289.47, 289.74, 290.02, 290.26, 290.51, 290.80, 291.10, 291.41, 291.76, 292.11, 292.46, 292.82, 293.17, 293.48, 293.79, 294.08, 294.36, 294.65, 294.95, 295.30, 295.67, 296.01, 296.32, 296.65, 296.95, 297.29, 297.66, 298.10, 298.52, 298.94, 299.38, 299.83, 300.35, 300.91, 301.42, 301.94, 302.48, 303.01, 303.45, 303.81, 304.25, 304.60, 304.94, 305.27, 305.63, 305.81, 305.95, 306.18, 306.33, 306.49, 306.62, 306.82, 307.09, 307.40, 307.78, 308.23, 309.01, 309.76, 310.29, 310.85, 311.36, 311.81, 312.17, 312.39, 312.41, 312.38, 312.39, 312.49, 312.52, 312.63, 312.82, 313.01, 313.34, 313.73, 314.09, 314.41, 314.70, 314.99, 315.34, 315.81, 316.62, 317.30, 318.04, 318.65, 319.33, 319.82, 320.88, 321.48, 322.39, 323.25, 324.78, 325.40, 327.35, 329.91, 330.76, 330.83, 331.54, 333.35, 335.01, 336.60, 338.70, 340.06, 340.64, 342.27, 344.01, 345.46, 346.90, 348.77, 351.28, 352.89, 354.07, 355.35, 356.23, 356.92, 358.25, 360.24, 362.00, 363.25, 365.93, 367.84, 369.12, 370.67, 372.83, 375.41, 376.99, 378.91, 381.01, 382.60, 384.74, 386.28, 388.72, 390.94, 393.02, 395.72, 397.55, 399.65, 403.09, 405.22, 407.61, 410.07, 412.46]\n",
    "yrsco2 = np.arange(1850,2020+1)\n",
    "\n",
    "#co2 concentration used for RYF\n",
    "co2_fix = np.mean(atmco2[1990-1850:1991+1-1850])\n",
    "\n",
    "#IAF spans from 1957 to 2020\n",
    "date_iaf = []\n",
    "for it in np.arange(1957,2020+1):\n",
    "    date_iaf.append(DatetimeNoLeap(it,7,1))"
   ]
  },
  {
   "cell_type": "code",
   "execution_count": 5,
   "metadata": {},
   "outputs": [
    {
     "name": "stdout",
     "output_type": "stream",
     "text": [
      "1 done\n",
      "025 done\n",
      "01 done\n"
     ]
    }
   ],
   "source": [
    "res_list = ['1','025','01']\n",
    "\n",
    "for ir in range(np.size(res_list)):\n",
    "    if res_list[ir] == '1':\n",
    "        ds_tar = xr.open_dataset('/g/data/v45/hh0162/projects/icebgc/prep_omip2/input_om2-bgc/1deg/ocean_grid_xyz.nc')\n",
    "    elif res_list[ir] == '025':\n",
    "        ds_tar = xr.open_dataset('/g/data/v45/hh0162/projects/icebgc/prep_omip2/input_om2-bgc/025deg/ocean_grid_xyz.nc')\n",
    "    elif res_list[ir] == '01':\n",
    "        ds_tar = xr.open_dataset('/g/data/v45/hh0162/projects/icebgc/prep_omip2/input_om2-bgc/01deg/ocean_grid_xyz.nc')\n",
    "\n",
    "    ds_tar = ds_tar.drop_dims('st_ocean')\n",
    "    ds_tar = ds_tar.drop_vars(['time','time_bounds'])\n",
    "    ds_tar = ds_tar.rename(({'xt_ocean':'grid_x_T', 'yt_ocean':'grid_y_T'}))\n",
    "\n",
    "    #RYF first\n",
    "    #RYF only has two dates (the same concentration is used throughout the simulation.)    \n",
    "    date_ryf = [\n",
    "        DatetimeNoLeap(1800,7,1),\n",
    "        DatetimeNoLeap(2101,7,1)\n",
    "    ]    \n",
    "    co2_3d = np.zeros((np.size(date_ryf),np.size(ds_tar.grid_y_T),np.size(ds_tar.grid_x_T)))\n",
    "    #take the average of co2 between 1957-1958. fixed value is given to both RYF and nat_co2/dic\n",
    "    co2_fix = np.mean(atmco2[1957-1850:1958+1-1850])\n",
    "    co2_3d[:,:,:] = co2_fix\n",
    "    ds_tar = ds_tar.assign_coords({\"time\":date_ryf})\n",
    "    ds_tar['co2'] = xr.DataArray(co2_3d,dims=['time','grid_y_T','grid_x_T'])\n",
    "    ds_tar.to_netcdf('/g/data/v45/hh0162/projects/icebgc/prep_omip2/input_om2-bgc/tmp/co2_ryf_'+res_list[ir]+'deg.nc',\n",
    "                     unlimited_dims='time',\n",
    "                     encoding={'co2':{'_FillValue': None,'zlib': True,'complevel': 9},'time':{'_FillValue':None,'dtype':'float64'}})\n",
    "    \n",
    "    ds_tar = ds_tar.drop_vars(['co2','time'])\n",
    "    \n",
    "    #IAF next\n",
    "    date_iaf = []\n",
    "    for it in range(1957,2020+1):\n",
    "        date_iaf.append(DatetimeNoLeap(it,7,1))    \n",
    "    co2_3d = np.zeros((np.size(date_iaf),np.size(ds_tar.grid_y_T),np.size(ds_tar.grid_x_T)))\n",
    "    for it in range(1957,2020+1):\n",
    "        co2_3d[it-1957,:,:] = atmco2[it-1850]\n",
    "    ds_tar = ds_tar.assign_coords({\"time\":date_iaf})\n",
    "    ds_tar['co2'] = xr.DataArray(co2_3d,dims=['time','grid_y_T','grid_x_T'])\n",
    "    ds_tar.to_netcdf('/g/data/v45/hh0162/projects/icebgc/prep_omip2/input_om2-bgc/tmp/co2_iaf_'+res_list[ir]+'deg.nc',\n",
    "                     unlimited_dims='time',\n",
    "                     encoding={'co2':{'_FillValue': None,'zlib': True,'complevel': 9},'time':{'_FillValue':None,'dtype':'float64'}})\n",
    "    print(res_list[ir],'done')"
   ]
  },
  {
   "cell_type": "code",
   "execution_count": 6,
   "metadata": {},
   "outputs": [
    {
     "name": "stdout",
     "output_type": "stream",
     "text": [
      "1,done\n",
      "025,done\n",
      "01,done\n"
     ]
    }
   ],
   "source": [
    "%%bash\n",
    "cd /g/data/v45/hh0162/projects/icebgc/prep_omip2/input_om2-bgc/tmp\n",
    "for ir in 1 025 01\n",
    "do\n",
    "    for it in iaf ryf\n",
    "    do\n",
    "        filename=co2_${it}_${ir}deg.nc\n",
    "        ncatted -a cartesian_axis,grid_x_T,c,c,\"X\" $filename\n",
    "        ncatted -a cartesian_axis,grid_y_T,c,c,\"Y\" $filename\n",
    "    done\n",
    "    echo $ir,done\n",
    "done"
   ]
  },
  {
   "cell_type": "markdown",
   "metadata": {},
   "source": [
    "# Creation of `bgc_param.nc`"
   ]
  },
  {
   "cell_type": "markdown",
   "metadata": {},
   "source": [
    "### Define parameter values.\n",
    "- For the names and units of these parameters, see Table of Supporting Information of Hayashida et al. (2020): Background nutrient concentration determines phytoplankton bloom response to marine heatwaves. Global Change Biology.\n",
    "- However, note that units given below may be different from Table of Hayashida et al. (2020), because the model wants them in SI. For example, `abio = 0.27 d-1` in Hayashida et al. (2020), but `abio = 3.125e-6 s-1` in `bgc_param.nc` below.\n",
    "- The parameter values specifed below are identical to those of Jiehn et al. (2020): The Australian Earth System Model: ACCESS-ESM1.5. Journal of Southern Hemisphere Earth Systems Science.\n",
    "- `nat_co2` is the fixed atmospheric co2 concentration (ppm) applied to `dic`. Typically this is set to a pre-industrial co2 value, as long as `dic` is representative of natural DIC. However, in some applications, you might prescribe different values. "
   ]
  },
  {
   "cell_type": "code",
   "execution_count": 7,
   "metadata": {},
   "outputs": [],
   "source": [
    "param_list = [\n",
    " ['abio',3.125e-6],\n",
    " ['alphabio',2.96296e-6],\n",
    " ['bbio',1.066],\n",
    " ['cbio',1],\n",
    " ['epsbio',1.85185e-5],\n",
    " ['fe_bkgnd',0.6],\n",
    " ['f_inorg',0.062],\n",
    " ['gam1bio',0.925],\n",
    " ['gam2bio',1.15741e-7],\n",
    " ['gbio',1.82292e-5],\n",
    " ['kcbio',21.2766],\n",
    " ['kwbio',25],\n",
    " ['k1bio',0.7],\n",
    " ['muecaco3',1.9838e-8],\n",
    " ['muecaco3_sed',4.05093e-8],\n",
    " ['muedbio',5.55556e-7],\n",
    " ['muedbio_sed',2.31481e-7],\n",
    " ['muepbio',4.62963e-7],\n",
    " ['muepsbio',2.89352e-6],\n",
    " ['muezbio',3.93519e-6],\n",
    " ['nat_co2',284.32],\n",
    " ['parbio',0.43],\n",
    " ['tscav_fe',3.17098e-8],\n",
    " ['wcaco3',6.94444e-5],\n",
    " ['wdetbio',2.77778e-4]\n",
    "]"
   ]
  },
  {
   "cell_type": "markdown",
   "metadata": {},
   "source": [
    "### Create data"
   ]
  },
  {
   "cell_type": "code",
   "execution_count": 8,
   "metadata": {},
   "outputs": [
    {
     "name": "stdout",
     "output_type": "stream",
     "text": [
      "1 done\n",
      "025 done\n",
      "01 done\n"
     ]
    }
   ],
   "source": [
    "res_list = ['1','025','01']\n",
    "\n",
    "for ir in range(np.size(res_list)):\n",
    "    if res_list[ir] == '1':\n",
    "        ds_tar = xr.open_dataset('/g/data/v45/hh0162/projects/icebgc/prep_omip2/input_om2-bgc/1deg/ocean_grid_xyz.nc')\n",
    "    elif res_list[ir] == '025':\n",
    "        ds_tar = xr.open_dataset('/g/data/v45/hh0162/projects/icebgc/prep_omip2/input_om2-bgc/025deg/ocean_grid_xyz.nc')\n",
    "    elif res_list[ir] == '01':\n",
    "        ds_tar = xr.open_dataset('/g/data/v45/hh0162/projects/icebgc/prep_omip2/input_om2-bgc/01deg/ocean_grid_xyz.nc')\n",
    "\n",
    "    ds_tar['temp'] = ds_tar['temp'].isel(st_ocean=0,drop=True)\n",
    "    ds_tar = ds_tar.drop_dims('st_ocean')\n",
    "    ds_tar = ds_tar.drop_vars(['time_bounds'])\n",
    "    ds_tar = ds_tar.rename(({'xt_ocean':'grid_x_T', 'yt_ocean':'grid_y_T'}))\n",
    "    for it in range(np.size(param_list,0)):\n",
    "        #where() is needed to remove the land mask.\n",
    "        ds_tar[param_list[it][0]] = ds_tar['temp'].where(ds_tar['temp']>0,0)*0 + param_list[it][1]\n",
    "    ds_tar = ds_tar.drop_vars('temp')\n",
    "    comp = dict(_FillValue=-1e34, missing_value=-1e34)\n",
    "    encoding = {var: comp for var in ds_tar.data_vars}\n",
    "    ds_tar.to_netcdf('/g/data/v45/hh0162/projects/icebgc/prep_omip2/input_om2-bgc/tmp/bgc_param_'+res_list[ir]+'deg.nc',\n",
    "                     encoding=encoding,\n",
    "                     unlimited_dims='time')#,encoding={'time':{'_FillValue':None,'dtype':'float64'}})\n",
    "    print(res_list[ir],'done')"
   ]
  },
  {
   "cell_type": "code",
   "execution_count": 9,
   "metadata": {
    "tags": []
   },
   "outputs": [],
   "source": [
    "%%bash\n",
    "cd /g/data/v45/hh0162/projects/icebgc/prep_omip2/input_om2-bgc/tmp\n",
    "for ir in 1 025 01\n",
    "do\n",
    "    filename=bgc_param_${ir}deg.nc\n",
    "    ncatted -a cartesian_axis,grid_x_T,c,c,\"X\" $filename\n",
    "    ncatted -a cartesian_axis,grid_y_T,c,c,\"Y\" $filename\n",
    "    ncks -O -L 9 $filename $filename\n",
    "    echo $ir,done\n",
    "done"
   ]
  },
  {
   "cell_type": "markdown",
   "metadata": {},
   "source": [
    "# Creation of `dust.nc`\n",
    "1. The original source file for dust input is not available, so use the 1-degree interpolated file as input. the method is described in Mongin et al. (2011), 10.1016/j.dsr2.2011.06.001."
   ]
  },
  {
   "cell_type": "code",
   "execution_count": 2,
   "metadata": {},
   "outputs": [
    {
     "name": "stderr",
     "output_type": "stream",
     "text": [
      "/g/data/hh5/public/apps/miniconda3/envs/analysis3-21.07/lib/python3.9/site-packages/xesmf/frontend.py:590: UserWarning: Using dimensions ('grid_y_T', 'grid_x_T') from data variable dust as the horizontal dimensions for the regridding.\n",
      "  warnings.warn(\n",
      "/g/data/hh5/public/apps/miniconda3/envs/analysis3-21.07/lib/python3.9/site-packages/xesmf/frontend.py:522: FutureWarning: ``output_sizes`` should be given in the ``dask_gufunc_kwargs`` parameter. It will be removed as direct parameter in a future version.\n",
      "  dr_out = xr.apply_ufunc(\n"
     ]
    },
    {
     "name": "stdout",
     "output_type": "stream",
     "text": [
      "['input: ', <xarray.DataArray 'dust' ()>\n",
      "array(5.21357542e-08), <xarray.DataArray 'dust' ()>\n",
      "array(0.), <xarray.DataArray 'dust' ()>\n",
      "array(2.1554396e-05)]\n",
      "['output: ', <xarray.DataArray 'dust' ()>\n",
      "array(3.92675238e-08), <xarray.DataArray 'dust' ()>\n",
      "array(0.), <xarray.DataArray 'dust' ()>\n",
      "array(2.12758077e-05)]\n"
     ]
    }
   ],
   "source": [
    "res_list = ['1','025','01']\n",
    "\n",
    "for ir in range(np.size(res_list)):\n",
    "    #read target grid\n",
    "    if res_list[ir] == '1':\n",
    "        ds_tar = xr.open_dataset('/g/data/v45/hh0162/projects/icebgc/prep_omip2/input_om2-bgc/1deg/ocean_grid_xyz.nc')\n",
    "        ds_gri = xr.open_dataset('/g/data/ik11/grids/ocean_grid_10.nc')\n",
    "    elif res_list[ir] == '025':\n",
    "        ds_tar = xr.open_dataset('/g/data/v45/hh0162/projects/icebgc/prep_omip2/input_om2-bgc/025deg/ocean_grid_xyz.nc')\n",
    "        ds_gri = xr.open_dataset('/g/data/ik11/grids/ocean_grid_025.nc')        \n",
    "    elif res_list[ir] == '01':\n",
    "        ds_tar = xr.open_dataset('/g/data/v45/hh0162/projects/icebgc/prep_omip2/input_om2-bgc/01deg/ocean_grid_xyz.nc')\n",
    "        ds_gri = xr.open_dataset('/g/data/ik11/grids/ocean_grid_01.nc')        \n",
    "    #rename to lon and lat so that xesmf understands\n",
    "    ds_gri = ds_gri.rename({'geolon_t': 'lon', 'geolat_t': 'lat'})\n",
    "\n",
    "    ds_in = xr.open_dataset('/g/data/v45/hh0162/projects/icebgc/prep_omip2/input_om2-bgc/input/dust.nc')\n",
    "    ds_gri_in = xr.open_dataset('/g/data/ik11/grids/ocean_grid_10.nc')\n",
    "    ds_gri_in = ds_gri_in.rename({'geolon_t': 'lon', 'geolat_t': 'lat'})\n",
    "    \n",
    "    ds_tar['temp'] = ds_tar['temp'].isel(st_ocean=0,drop=True)\n",
    "    ds_tar = ds_tar.drop_dims('st_ocean')\n",
    "    ds_tar = ds_tar.drop_vars(['time','time_bounds'])\n",
    "    ds_tar = ds_tar.drop_vars('temp')\n",
    "    ds_tar = ds_tar.assign_coords({\"time\":ds_in['time']})\n",
    "    ds_tar['lon'] = (['yt_ocean','xt_ocean'],ds_gri['lon'].values)\n",
    "    ds_tar['lat'] = (['yt_ocean','xt_ocean'],ds_gri['lat'].values)\n",
    "    ds_in['lon'] = (['yt_ocean','xt_ocean'],ds_gri_in['lon'].values)\n",
    "    ds_in['lat'] = (['yt_ocean','xt_ocean'],ds_gri_in['lat'].values)\n",
    "\n",
    "    regridder = xe.Regridder(ds_gri_in,ds_gri,method='bilinear',periodic=True)\n",
    "    ds_tar['dust'] = (['time','yt_ocean','xt_ocean'],regridder(ds_in['dust']).values)    \n",
    "    ds_tar = ds_tar.rename(({'xt_ocean':'grid_x_T', 'yt_ocean':'grid_y_T'}))\n",
    "    #some interpolated values are NaNs, so interpolate_na with the following options to fill in NaNs.\n",
    "    #dim='st_ocean' is essential. 'xt_ocean' produces NaNs.\n",
    "    #method='nearest' is essential. 'linear' gives extreme values.\n",
    "    #fill_value='extrapolate' is essential. without it, still NaNs exist.\n",
    "    ds_tar['dust'] = ds_tar['dust'].interpolate_na(dim='time',method='nearest',fill_value=\"extrapolate\")\n",
    "    print(['input: ',ds_in['dust'].mean(),ds_in['dust'].min(),ds_in['dust'].max()])\n",
    "    print(['output: ',ds_tar['dust'].mean(),ds_tar['dust'].min(),ds_tar['dust'].max()])\n",
    "\n",
    "    ds_tar.to_netcdf('/g/data/v45/hh0162/projects/icebgc/prep_omip2/input_om2-bgc/tmp/dust_'+res_list[ir]+'deg.nc',\n",
    "                     unlimited_dims='time',\n",
    "                     encoding={'dust':{'zlib': True,'complevel': 1,\n",
    "                                       '_FillValue':-1.e34, 'missing_value':-1.e34}})\n",
    "    print(res_list[ir],'done')"
   ]
  },
  {
   "cell_type": "markdown",
   "metadata": {
    "jp-MarkdownHeadingCollapsed": true,
    "tags": []
   },
   "source": [
    "# Creation of `csiro_bgc_sediment.res.nc`\n",
    "1. for simplicity, initialise with zero values everywhere.\n",
    "1. the x and y dimensions of the input file are not helpful (given indices instead of actual lon/lat values), so replace them with dust.nc for interpolation purposes.\n",
    "1. This script relies on `csiro_bgc.res.nc`, so make sure to compute this after creating `csiro_bgc.res.nc`."
   ]
  },
  {
   "cell_type": "code",
   "execution_count": 3,
   "metadata": {
    "tags": []
   },
   "outputs": [],
   "source": [
    "res_list = ['1','025','01']\n",
    "\n",
    "for ir in range(np.size(res_list)):\n",
    "    ds_in = xr.open_dataset('/g/data/v45/hh0162/projects/icebgc/prep_omip2/input_om2-bgc/tmp/csiro_bgc.res_'+res_list[ir]+'deg.nc')\n",
    "    ds_tar = ds_in['phy'].isel(zaxis_1=0,drop=True)\n",
    "    ds_tar = ds_tar*0\n",
    "    ds_tar = ds_tar.rename('caco3_sediment')\n",
    "    \n",
    "    ds_tar.to_netcdf('/g/data/v45/hh0162/projects/icebgc/prep_omip2/input_om2-bgc/tmp/csiro_bgc_sediment.res_'+res_list[ir]+'deg.nc',unlimited_dims='Time',encoding={'Time':{'_FillValue':None,'dtype':'float64'}})\n",
    "    print(res_list[ir],'done')"
   ]
  },
  {
   "cell_type": "code",
   "execution_count": 4,
   "metadata": {
    "tags": []
   },
   "outputs": [],
   "source": [
    "%%bash\n",
    "cd /g/data/v45/hh0162/projects/icebgc/prep_omip2/input_om2-bgc/tmp\n",
    "for ir in 1 025 01\n",
    "do\n",
    "    filename=csiro_bgc_sediment.res_${ir}deg.nc\n",
    "    ncap2 -O -s 'det_sediment=caco3_sediment' $filename $filename\n",
    "    ncatted -a cartesian_axis,xaxis_1,c,c,\"X\" $filename\n",
    "    ncatted -a cartesian_axis,yaxis_1,c,c,\"Y\" $filename\n",
    "    ncks -O -L 9 $filename $filename\n",
    "done"
   ]
  },
  {
   "cell_type": "markdown",
   "metadata": {},
   "source": [
    "# Update `o2i.nc` and `i2o.nc`\n",
    "- two bgc tracers added to each file.\n",
    "- wind speed is added to `i2o.nc` for gas flux calculation."
   ]
  },
  {
   "cell_type": "code",
   "execution_count": 1,
   "metadata": {},
   "outputs": [],
   "source": [
    "%%bash\n",
    "for ir in 1 025 01\n",
    "do\n",
    "    cd /g/data/v45/hh0162/projects/icebgc/prep_omip2/input_om2-bgc/${ir}deg/\n",
    "    ncap2 -O -s 'ssn_i=sst_i/sst_i' o2i.nc o2i.nc\n",
    "    ncap2 -O -s 'ssalg_i=sst_i/sst_i' o2i.nc o2i.nc\n",
    "    ncap2 -O -s 'wnd10_io=licefh_io' i2o.nc i2o.nc\n",
    "    ncap2 -O -s 'nit_io=wnd10_io+0.1' i2o.nc i2o.nc\n",
    "    ncap2 -O -s 'alg_io=wnd10_io+0.1' i2o.nc i2o.nc\n",
    "done"
   ]
  },
  {
   "cell_type": "markdown",
   "metadata": {
    "tags": []
   },
   "source": [
    "# Copy the regridded files to their respective destinations.\n",
    "1. the regridded files will be copied to each resoluiton diretory and given the same file names (so that no need to customise ocean/field_table for each resolution)."
   ]
  },
  {
   "cell_type": "code",
   "execution_count": 10,
   "metadata": {},
   "outputs": [
    {
     "name": "stderr",
     "output_type": "stream",
     "text": [
      "cp: cannot stat 'csiro_bgc_sediment.res_1deg.nc': No such file or directory\n"
     ]
    }
   ],
   "source": [
    "%%bash\n",
    "cd /g/data/v45/hh0162/projects/icebgc/prep_omip2/input_om2-bgc/tmp\n",
    "for ir in 1 025 01\n",
    "do\n",
    "    for it in bgc_param co2_iaf co2_ryf dust csiro_bgc.res csiro_bgc_sediment.res\n",
    "    do\n",
    "        cp ${it}_${ir}deg.nc ../${ir}deg/${it}.nc\n",
    "    done\n",
    "done"
   ]
  },
  {
   "cell_type": "markdown",
   "metadata": {},
   "source": [
    "# That's it! If you are happy with the output stored in `1deg, 025deg, 01deg`, then delete `tmp`."
   ]
  },
  {
   "cell_type": "code",
   "execution_count": null,
   "metadata": {},
   "outputs": [],
   "source": []
  },
  {
   "cell_type": "code",
   "execution_count": null,
   "metadata": {},
   "outputs": [],
   "source": []
  },
  {
   "cell_type": "code",
   "execution_count": null,
   "metadata": {},
   "outputs": [],
   "source": []
  },
  {
   "cell_type": "markdown",
   "metadata": {},
   "source": [
    "# Pre-processing of input and reference grid data (NOT NECESSARY, as these data already exist, but keeping it for reproducibility)."
   ]
  },
  {
   "cell_type": "code",
   "execution_count": null,
   "metadata": {},
   "outputs": [],
   "source": [
    "#Download GLODAPv2 2016b and OMIP archives of WOA13v2 (no3, o2) and FEMIP (fe)\n",
    "#Extract GLODAPv2\n",
    "%%bash\n",
    "cd input\n",
    "wget https://www.nodc.noaa.gov/archive/arc0107/0162565/1.1/data/0-data/mapped/GLODAPv2.2016b_MappedClimatologies.tar.gz\n",
    "tar -xvf GLODAPv2.2016b_MappedClimatologies.tar.gz\n",
    "wget https://vesg.ipsl.upmc.fr/thredds/fileServer/IPSLFS/jomce/OMIP/initconds/FEMIP_model_median_iron_2016.nc\n",
    "wget https://vesg.ipsl.upmc.fr/thredds/fileServer/IPSLFS/jomce/OMIP/initconds/woa13_oxygen_OMIPinit.nc\n",
    "wget https://vesg.ipsl.upmc.fr/thredds/fileServer/IPSLFS/jomce/OMIP/initconds/woa13_nitrate_OMIPinit.nc"
   ]
  },
  {
   "cell_type": "code",
   "execution_count": null,
   "metadata": {},
   "outputs": [],
   "source": [
    "#Extrapolate over land\n",
    "%%bash\n",
    "cd input\n",
    "cdo -O fillmiss woa13_oxygen_OMIPinit.nc woa13_oxygen_OMIPinit_fillmiss.nc\n",
    "cdo -O fillmiss woa13_nitrate_OMIPinit.nc woa13_nitrate_OMIPinit_fillmiss.nc\n",
    "cdo -O fillmiss FEMIP_model_median_iron_2016.nc FEMIP_model_median_iron_2016_fillmiss.nc\n",
    "for iv in oxygen NO3 PI_TCO2 TCO2 TAlk\n",
    "do\n",
    "    filename=GLODAPv2.2016b.${iv}\n",
    "    cdo -O fillmiss GLODAPv2.2016b_MappedClimatologies/${filename}.nc ${filename}_fillmiss.nc\n",
    "done "
   ]
  },
  {
   "cell_type": "markdown",
   "metadata": {},
   "source": []
  },
  {
   "cell_type": "code",
   "execution_count": 32,
   "metadata": {},
   "outputs": [],
   "source": [
    "# Apply fillmiss for `adic` and `dic` of ACCESS-OM2 OMIP2 output. \n",
    "# For adic and alk, use the 1-deg omip2 cycle 5 restart 304. \n",
    "# Because restart files have weird values over land, i cannot do `cdo fillmiss`. \n",
    "# To resolve this issue, i need to first apply the landsea mask \n",
    "# and also give appropriate grid coordinates based on an output file.\n",
    "ds_in = xr.open_dataset('/g/data/ik11/outputs/access-om2/1deg_jra55_iaf_omip2_cycle5/restart304/ocean/csiro_bgc.res.nc')\n",
    "ds_ou = xr.open_dataset('/g/data/ik11/outputs/access-om2/1deg_jra55_iaf_omip2_cycle5/output304/ocean/ocean_bgc_ann.nc')\n",
    "ds_ou['adic'] = ds_ou['adic'].where(ds_ou['adic']!=ds_ou['adic'],ds_in['adic'].values)\n",
    "ds_ou['alk'] = ds_ou['alk'].where(ds_ou['alk']!=ds_ou['alk'],ds_in['alk'].values)\n",
    "ds_ou.to_netcdf('/g/data/v45/hh0162/projects/icebgc/prep_omip2/input_om2-bgc/input/1deg_jra55_iaf_omip2_cycle5_restart304_csiro_bgc.res.nc')"
   ]
  },
  {
   "cell_type": "code",
   "execution_count": null,
   "metadata": {},
   "outputs": [],
   "source": [
    "#Extrapolate over land\n",
    "%%bash\n",
    "cd input\n",
    "cdo -fillmiss 1deg_jra55_iaf_omip2_cycle5_restart304_csiro_bgc.res.nc 1deg_jra55_iaf_omip2_cycle5_restart304_csiro_bgc.res_fillmiss.nc\n"
   ]
  },
  {
   "cell_type": "code",
   "execution_count": null,
   "metadata": {},
   "outputs": [],
   "source": [
    "#Create a reference grid file for each resolution (used as a target grid for regridding)\n",
    "ncks -d time,1 -v temp /g/data/ik11/outputs/access-om2/1deg_jra55_iaf_omip2_cycle6/output365/ocean/ocean_month.nc 1deg/ocean_grid_xyz.nc\n",
    "ncks -d time,1 -v temp /g/data/ik11/outputs/access-om2-025/025deg_jra55_iaf_omip2_cycle6/output365/ocean/ocean_month.nc 025deg/ocean_grid_xyz.nc\n",
    "ncks -d time,1 -v temp /g/data/ik11/outputs/access-om2-01/01deg_jra55v140_iaf_cycle3/output700/ocean/ocean-3d-temp-1-daily-mean-ym_2011_01.nc 01deg/ocean_grid_xyz.nc\n"
   ]
  }
 ],
 "metadata": {
  "kernelspec": {
   "display_name": "Python [conda env:analysis3-21.07]",
   "language": "python",
   "name": "conda-env-analysis3-21.07-py"
  },
  "language_info": {
   "codemirror_mode": {
    "name": "ipython",
    "version": 3
   },
   "file_extension": ".py",
   "mimetype": "text/x-python",
   "name": "python",
   "nbconvert_exporter": "python",
   "pygments_lexer": "ipython3",
   "version": "3.9.7"
  }
 },
 "nbformat": 4,
 "nbformat_minor": 4
}
